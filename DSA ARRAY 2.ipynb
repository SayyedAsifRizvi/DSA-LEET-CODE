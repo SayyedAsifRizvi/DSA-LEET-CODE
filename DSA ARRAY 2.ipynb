{
 "cells": [
  {
   "cell_type": "markdown",
   "id": "8a6bba73",
   "metadata": {},
   "source": [
    "  \n",
    "   \n",
    "\n"
   ]
  },
  {
   "cell_type": "markdown",
   "id": "2f00245e",
   "metadata": {},
   "source": [
    "\n",
    "💡 **Question 1**\n",
    "Given an integer array nums of 2n integers, group these integers into n pairs (a1, b1), (a2, b2),..., (an, bn) such that the sum of min(ai, bi) for all i is maximized. Return the maximized sum.\n",
    "\n",
    "**Example 1:**\n",
    "Input: nums = [1,4,3,2]\n",
    "Output: 4\n",
    "\n",
    "**Explanation:** All possible pairings (ignoring the ordering of elements) are:\n",
    "\n",
    "1. (1, 4), (2, 3) -> min(1, 4) + min(2, 3) = 1 + 2 = 3\n",
    "2. (1, 3), (2, 4) -> min(1, 3) + min(2, 4) = 1 + 2 = 3\n",
    "3. (1, 2), (3, 4) -> min(1, 2) + min(3, 4) = 1 + 3 = 4\n",
    "So the maximum possible sum is 4\n"
   ]
  },
  {
   "cell_type": "code",
   "execution_count": null,
   "id": "36efe7fb",
   "metadata": {},
   "outputs": [],
   "source": [
    "CODE:\n",
    "class Solution:\n",
    "    def arrayPairSum(self, nums: List[int]) -> int:\n",
    "        nums.sort()  # Sort the list in ascending order\n",
    "\n",
    "        sum = 0\n",
    "        # Iterate through the sorted list and sum up every second element\n",
    "        for i in range(0, len(nums), 2):\n",
    "           sum += nums[i]\n",
    "\n",
    "        return sum\n",
    "        \n",
    "LINK: https://leetcode.com/problems/array-partition/description/"
   ]
  },
  {
   "cell_type": "markdown",
   "id": "9de8dab3",
   "metadata": {},
   "source": [
    "Question 2\n",
    "Alice has n candies, where the ith candy is of type candyType[i]. Alice noticed that she started to gain weight, so she visited a doctor. \n",
    "\n",
    "The doctor advised Alice to only eat n / 2 of the candies she has (n is always even). Alice likes her candies very much, and she wants to eat the maximum number of different types of candies while still following the doctor's advice. \n",
    "\n",
    "Given the integer array candyType of length n, return the maximum number of different types of candies she can eat if she only eats n / 2 of them.\n",
    "\n",
    "Example 1:\n",
    "Input: candyType = [1,1,2,2,3,3]\n",
    "Output: 3\n",
    "\n",
    "Explanation: Alice can only eat 6 / 2 = 3 candies. Since there are only 3 types, she can eat one of each type."
   ]
  },
  {
   "cell_type": "code",
   "execution_count": null,
   "id": "9fca8c53",
   "metadata": {},
   "outputs": [],
   "source": [
    "CODE:\n",
    "class Solution:\n",
    "    def distributeCandies(self, candyType: List[int]) -> int:\n",
    "        seen = {}\n",
    "        i = 0\n",
    "        amount_allowed = 0\n",
    "        while(i<len(candyType) and amount_allowed<len(candyType)//2):\n",
    "            if seen.get(candyType[i],0)==0:\n",
    "                amount_allowed+=1\n",
    "                seen[candyType[i]] = 1\n",
    "            i+=1\n",
    "        return amount_allowed\n",
    "\n",
    "LINK :https://leetcode.com/problems/distribute-candies/description/"
   ]
  },
  {
   "cell_type": "markdown",
   "id": "925b6137",
   "metadata": {},
   "source": [
    "Question 3\n",
    "We define a harmonious array as an array where the difference between its maximum value\n",
    "and its minimum value is exactly 1.\n",
    "\n",
    "Given an integer array nums, return the length of its longest harmonious subsequence\n",
    "among all its possible subsequences.\n",
    "\n",
    "A subsequence of an array is a sequence that can be derived from the array by deleting some or no elements without changing the order of the remaining elements.\n",
    "\n",
    "Example 1:\n",
    "Input: nums = [1,3,2,2,5,2,3,7]\n",
    "Output: 5\n",
    "\n",
    "Explanation: The longest harmonious subsequence is [3,2,2,2,3]."
   ]
  },
  {
   "cell_type": "code",
   "execution_count": null,
   "id": "b23f4efd",
   "metadata": {},
   "outputs": [],
   "source": [
    "CODE:\n",
    "class Solution:\n",
    "    def findLHS(self, nums: List[int]) -> int:\n",
    "        \"\"\"\n",
    "        Finds the length of the longest harmonious subsequence in the given array.\n",
    "        Returns the length of the longest harmonious subsequence.\n",
    "        \n",
    "        Time Complexity: O(n)\n",
    "        Space Complexity: O(n)\n",
    "        \"\"\"\n",
    "        ans = 0\n",
    "        counter = Counter(nums)\n",
    "        \n",
    "        # Iterate through the elements and find the length of the longest harmonious subsequence\n",
    "        for num, freq in counter.items():\n",
    "            if num + 1 in counter:\n",
    "                ans = max(ans, freq + counter[num + 1])\n",
    "        \n",
    "        return ans\n",
    "LINK:https://leetcode.com/problems/longest-harmonious-subsequence/description/"
   ]
  },
  {
   "cell_type": "markdown",
   "id": "01b3ff36",
   "metadata": {},
   "source": [
    "Question 4\n",
    "You have a long flowerbed in which some of the plots are planted, and some are not.\n",
    "However, flowers cannot be planted in adjacent plots.\n",
    "Given an integer array flowerbed containing 0's and 1's, where 0 means empty and 1 means not empty, and an integer n, return true if n new flowers can be planted in the flowerbed without violating the no-adjacent-flowers rule and false otherwise.\n",
    "\n",
    "Example 1:\n",
    "Input: flowerbed = [1,0,0,0,1], n = 1\n",
    "Output: true"
   ]
  },
  {
   "cell_type": "code",
   "execution_count": null,
   "id": "409b1e5a",
   "metadata": {},
   "outputs": [],
   "source": [
    "CODE:\n",
    "class Solution:\n",
    "    def canPlaceFlowers(self, flowerbed: List[int], n: int) -> bool:\n",
    "        if n == 0:\n",
    "            return True\n",
    "        for i in range(len(flowerbed)):\n",
    "            if flowerbed[i] == 0 and (i == 0 or flowerbed[i-1] == 0) and (i == len(flowerbed)-1 or flowerbed[i+1] == 0):\n",
    "                flowerbed[i] = 1\n",
    "                n -= 1\n",
    "                if n == 0:\n",
    "                    return True\n",
    "        return False\n",
    "    \n",
    "LINK: https://leetcode.com/problems/can-place-flowers/description/\n"
   ]
  },
  {
   "cell_type": "markdown",
   "id": "1bfb49ee",
   "metadata": {},
   "source": [
    "Question 5\n",
    "Given an integer array nums, find three numbers whose product is maximum and return the maximum product.\n",
    "\n",
    "Example 1:\n",
    "Input: nums = [1,2,3]\n",
    "Output: 6"
   ]
  },
  {
   "cell_type": "code",
   "execution_count": null,
   "id": "e0e29bbe",
   "metadata": {},
   "outputs": [],
   "source": [
    "CODE:\n",
    "class Solution:\n",
    "    def maximumProduct(self, vec: List[int]) -> int:\n",
    "        if len(vec) == 3:\n",
    "            return vec[0] * vec[1] * vec[2]\n",
    "        max1 = max2 = max3 = -1000 \n",
    "        min1 = min2 = 1000\n",
    "        for i in vec:\n",
    "            if i > max1:\n",
    "                max3 = max2\n",
    "                max2 = max1\n",
    "                max1 = i\n",
    "            elif i > max2:\n",
    "                max3 = max2\n",
    "                max2 = i\n",
    "            elif i > max3:\n",
    "                max3 = i\n",
    "            if i < min1:\n",
    "                min2 = min1\n",
    "                min1 = i\n",
    "            elif i < min2:\n",
    "                min2 = i\n",
    "        return max(max1 * max2 * max3, min1 * min2 * max1)\n",
    "    \n",
    "LINK:https://leetcode.com/problems/maximum-product-of-three-numbers/description/"
   ]
  },
  {
   "cell_type": "markdown",
   "id": "20fcdf60",
   "metadata": {},
   "source": [
    "Question 6\n",
    "Given an array of integers nums which is sorted in ascending order, and an integer target,\n",
    "write a function to search target in nums. If target exists, then return its index. Otherwise,\n",
    "return -1.\n",
    "\n",
    "You must write an algorithm with O(log n) runtime complexity.\n",
    "\n",
    "Input: nums = [-1,0,3,5,9,12], target = 9\n",
    "Output: 4\n",
    "\n",
    "Explanation: 9 exists in nums and its index is 4"
   ]
  },
  {
   "cell_type": "code",
   "execution_count": null,
   "id": "a354064d",
   "metadata": {},
   "outputs": [],
   "source": [
    "CODE:\n",
    "class Solution(object):\n",
    "    def search(self, nums, target):\n",
    "        \"\"\"\n",
    "        :type nums: List[int]\n",
    "        :type target: int\n",
    "        :rtype: int\n",
    "        \"\"\"\n",
    "        left = 0\n",
    "        right = len(nums) - 1\n",
    "        \n",
    "        while left <= right:\n",
    "            mid = (left + right) // 2\n",
    "            \n",
    "            if nums[mid] == target:\n",
    "                return mid\n",
    "            elif nums[mid] < target:\n",
    "                left = mid + 1\n",
    "            else:\n",
    "                right = mid - 1\n",
    "        \n",
    "        return -1\n",
    "LINK:https://leetcode.com/problems/binary-search/description/"
   ]
  },
  {
   "cell_type": "markdown",
   "id": "5e0acb2d",
   "metadata": {},
   "source": [
    "\n",
    "\n",
    "\n",
    "\n",
    "Question 7\n",
    "An array is monotonic if it is either monotone increasing or monotone decreasing.\n",
    "\n",
    "An array nums is monotone increasing if for all i <= j, nums[i] <= nums[j]. An array nums is\n",
    "monotone decreasing if for all i <= j, nums[i] >= nums[j].\n",
    "\n",
    "Given an integer array nums, return true if the given array is monotonic, or false otherwise.\n",
    "\n",
    "Example 1:\n",
    "Input: nums = [1,2,2,3]\n",
    "Output: true"
   ]
  },
  {
   "cell_type": "code",
   "execution_count": null,
   "id": "0f8e5e60",
   "metadata": {},
   "outputs": [],
   "source": [
    "CODE:\n",
    "class Solution:\n",
    "    def isMonotonic(self, A: List[int]) -> bool:\n",
    "        if A[-1] < A[0]: \n",
    "            A = A[::-1]\n",
    "        \n",
    "        for i in range(1, len(A)):\n",
    "            if A[i] < A[i-1]:\n",
    "                return False\n",
    "        return True\n",
    "    \n",
    "LINK:https://leetcode.com/problems/monotonic-array/description/"
   ]
  },
  {
   "cell_type": "markdown",
   "id": "19731eae",
   "metadata": {},
   "source": [
    "Question 8\n",
    "You are given an integer array nums and an integer k.\n",
    "\n",
    "In one operation, you can choose any index i where 0 <= i < nums.length and change nums[i] to nums[i] + x where x is an integer from the range [-k, k]. You can apply this operation at most once for each index i.\n",
    "\n",
    "The score of nums is the difference between the maximum and minimum elements in nums.\n",
    "\n",
    "Return the minimum score of nums after applying the mentioned operation at most once for each index in it.\n",
    "\n",
    "Example 1:\n",
    "Input: nums = [1], k = 0\n",
    "Output: 0\n",
    "\n",
    "Explanation: The score is max(nums) - min(nums) = 1 - 1 = 0."
   ]
  },
  {
   "cell_type": "code",
   "execution_count": null,
   "id": "0a1dfaa0",
   "metadata": {},
   "outputs": [],
   "source": [
    "CODE:\n",
    "class Solution:\n",
    "    def smallestRangeI(self, A: List[int], K: int) -> int:\n",
    "\n",
    "        M, m = max(A), min(A)\n",
    "        diff, extension = M - m, 2*K\n",
    "        \n",
    "        if diff <= extension:\n",
    "            return 0\n",
    "        \n",
    "        else:\n",
    "            return diff - extension\n",
    "LINK:https://leetcode.com/problems/smallest-range-i/description/"
   ]
  },
  {
   "cell_type": "code",
   "execution_count": null,
   "id": "bd35f927",
   "metadata": {},
   "outputs": [],
   "source": []
  }
 ],
 "metadata": {
  "kernelspec": {
   "display_name": "Python 3 (ipykernel)",
   "language": "python",
   "name": "python3"
  },
  "language_info": {
   "codemirror_mode": {
    "name": "ipython",
    "version": 3
   },
   "file_extension": ".py",
   "mimetype": "text/x-python",
   "name": "python",
   "nbconvert_exporter": "python",
   "pygments_lexer": "ipython3",
   "version": "3.10.9"
  }
 },
 "nbformat": 4,
 "nbformat_minor": 5
}
