{
 "cells": [
  {
   "cell_type": "markdown",
   "id": "f3aefed5",
   "metadata": {},
   "source": [
    "💡 **Q1.** Given an array of integers nums and an integer target, return indices of the two numbers such that they add up to target.\n",
    "\n",
    "You may assume that each input would have exactly one solution, and you may not use the same element twice.\n",
    "\n",
    "You can return the answer in any order.\n",
    "\n",
    "**Example:**\n",
    "Input: nums = [2,7,11,15], target = 9\n",
    "Output0 [0,1]\n",
    "\n",
    "**Explanation:** Because nums[0] + nums[1] == 9, we return [0, 1][\n",
    "\n"
   ]
  },
  {
   "cell_type": "markdown",
   "id": "13211080",
   "metadata": {},
   "source": [
    "CODE:\n",
    "class Solution:\n",
    "    def twoSum(self, nums: List[int], target: int) -> List[int]:\n",
    "        numMap = {}\n",
    "        n = len(nums)\n",
    "        for i in range(n):\n",
    "            compliment = target - nums[i]\n",
    "            if compliment in numMap:\n",
    "                return [numMap[compliment],i]\n",
    "            numMap[nums[i]] = i\n",
    "\n",
    "        return []\n",
    "        \n",
    "link to the problem: https://leetcode.com/problems/two-sum/"
   ]
  },
  {
   "cell_type": "markdown",
   "id": "55e8f8a5",
   "metadata": {},
   "source": [
    "\n",
    "💡 **Q2.** Given an integer array nums and an integer val, remove all occurrences of val in nums in-place. The order of the elements may be changed. Then return the number of elements in nums which are not equal to val.\n",
    "\n",
    "Consider the number of elements in nums which are not equal to val be k, to get accepted, you need to do the following things:\n",
    "\n",
    "- Change the array nums such that the first k elements of nums contain the elements which are not equal to val. The remaining elements of nums are not important as well as the size of nums.\n",
    "- Return k.\n",
    "\n",
    "**Example :**\n",
    "Input: nums = [3,2,2,3], val = 3\n",
    "Output: 2, nums = [2,2,_*,_*]\n",
    "\n",
    "**Explanation:** Your function should return k = 2, with the first two elements of nums being 2. It does not matter what you leave beyond the returned k (hence they are underscores)\n",
    "\n"
   ]
  },
  {
   "cell_type": "markdown",
   "id": "1e2f33a7",
   "metadata": {},
   "source": [
    "Code:\n",
    "class Solution:\n",
    "    def removeElement(self, nums: List[int], val: int) -> int:\n",
    "        index = 0\n",
    "        for i in range(len(nums)):\n",
    "            if nums[i] != val:\n",
    "                nums[index] = nums[i]\n",
    "                index += 1\n",
    "        return index\n",
    "        \n",
    "link : https://leetcode.com/problems/remove-element/description/"
   ]
  },
  {
   "cell_type": "markdown",
   "id": "37266afe",
   "metadata": {},
   "source": [
    "\n",
    "💡 **Q3.** Given a sorted array of distinct integers and a target value, return the index if the target is found. If not, return the index where it would be if it were inserted in order.\n",
    "\n",
    "You must write an algorithm with O(log n) runtime complexity.\n",
    "\n",
    "**Example 1:**\n",
    "Input: nums = [1,3,5,6], target = 5\n",
    "\n",
    "Output: 2\n",
    "\n"
   ]
  },
  {
   "cell_type": "markdown",
   "id": "6c0d0609",
   "metadata": {},
   "source": [
    "CODE:\n",
    "class Solution:\n",
    "    def searchInsert(self, nums: List[int], target: int) -> int:\n",
    "        left,right=0,len(nums)-1\n",
    "        while left<=right:\n",
    "            mid=(left+right)//2\n",
    "            if nums[mid]==target:\n",
    "                return mid\n",
    "            elif nums[mid]<target:\n",
    "                left=mid+1\n",
    "            else:\n",
    "                right=mid-1\n",
    "        return left\n",
    "        \n",
    "link : https://leetcode.com/problems/search-insert-position/description/"
   ]
  },
  {
   "cell_type": "markdown",
   "id": "0fdec67a",
   "metadata": {},
   "source": [
    "\n",
    "\n",
    "💡 **Q4.** You are given a large integer represented as an integer array digits, where each digits[i] is the ith digit of the integer. The digits are ordered from most significant to least significant in left-to-right order. The large integer does not contain any leading 0's.\n",
    "\n",
    "Increment the large integer by one and return the resulting array of digits.\n",
    "\n",
    "**Example 1:**\n",
    "Input: digits = [1,2,3]\n",
    "Output: [1,2,4]\n",
    "\n",
    "**Explanation:** The array represents the integer 123.\n",
    "\n",
    "Incrementing by one gives 123 + 1 = 124.\n",
    "Thus, the result should be [1,2,4].\n",
    "\n"
   ]
  },
  {
   "cell_type": "markdown",
   "id": "a7f3d6f5",
   "metadata": {},
   "source": [
    "CODE: \n",
    "class Solution:\n",
    "    def plusOne(self, digits: List[int]) -> List[int]:\n",
    "        sums = digits[-1] + 1\n",
    "        carry = 1 if sums > 9 else 0  \n",
    "        digits[-1] = 0 if sums > 9 else sums\n",
    "\n",
    "        for i in range(len(digits)-2, -1, -1):\n",
    "            if digits[i] + carry > 9:\n",
    "                carry = 1\n",
    "                digits[i] = 0\n",
    "            else:\n",
    "                digits[i] = digits[i] + carry\n",
    "                carry = 0\n",
    "    \n",
    "        #if carry == 1: \n",
    "        #    digits.append(1)\n",
    "        #    return digits[::-1]\n",
    "        \n",
    "        if carry == 1 : digits.insert(0,1)\n",
    "        \n",
    "        return digits\n",
    "link : https://leetcode.com/problems/plus-one/description/"
   ]
  },
  {
   "cell_type": "markdown",
   "id": "e119bd78",
   "metadata": {},
   "source": [
    "\n",
    "💡 **Q5.** You are given two integer arrays nums1 and nums2, sorted in non-decreasing order, and two integers m and n, representing the number of elements in nums1 and nums2 respectively.\n",
    "\n",
    "Merge nums1 and nums2 into a single array sorted in non-decreasing order.\n",
    "\n",
    "The final sorted array should not be returned by the function, but instead be stored inside the array nums1. To accommodate this, nums1 has a length of m + n, where the first m elements denote the elements that should be merged, and the last n elements are set to 0 and should be ignored. nums2 has a length of n.\n",
    "\n",
    "**Example 1:**\n",
    "Input: nums1 = [1,2,3,0,0,0], m = 3, nums2 = [2,5,6], n = 3\n",
    "Output: [1,2,2,3,5,6]\n",
    "\n",
    "**Explanation:** The arrays we are merging are [1,2,3] and [2,5,6].\n",
    "The result of the merge is [1,2,2,3,5,6] with the underlined elements coming from nums1.\n",
    "\n"
   ]
  },
  {
   "cell_type": "markdown",
   "id": "95c3e334",
   "metadata": {},
   "source": [
    "CODE:\n",
    "class Solution(object):\n",
    "    def merge(self, nums1, m, nums2, n):\n",
    "        # Initialize nums1's index\n",
    "        i = m - 1\n",
    "        # Initialize nums2's index\n",
    "        j = n - 1\n",
    "        # Initialize a variable k to store the last index of the 1st array...\n",
    "        k = m + n - 1\n",
    "        while j >= 0:\n",
    "            if i >= 0 and nums1[i] > nums2[j]:\n",
    "                nums1[k] = nums1[i]\n",
    "                k -= 1\n",
    "                i -= 1\n",
    "            else:\n",
    "                nums1[k] = nums2[j]\n",
    "                k -= 1\n",
    "                j -= 1\n",
    "                \n",
    "link: https://leetcode.com/problems/merge-sorted-array/description/\n"
   ]
  },
  {
   "cell_type": "markdown",
   "id": "3035e52e",
   "metadata": {},
   "source": [
    "\n",
    "💡 **Q6.** Given an integer array nums, return true if any value appears at least twice in the array, and return false if every element is distinct.\n",
    "\n",
    "**Example 1:**\n",
    "Input: nums = [1,2,3,1]\n",
    "\n",
    "Output: true\n",
    "\n"
   ]
  },
  {
   "cell_type": "markdown",
   "id": "65b2b959",
   "metadata": {},
   "source": [
    "CODE:\n",
    "class Solution:\n",
    "    def containsDuplicate(self, nums: List[int]) -> bool:\n",
    "        seen = {}\n",
    "        for num in nums:\n",
    "            if num in seen and seen[num] >= 1:\n",
    "                return True\n",
    "            seen[num] = seen.get(num, 0) + 1\n",
    "        return False\n",
    "Link : https://leetcode.com/problems/contains-duplicate/description/"
   ]
  },
  {
   "cell_type": "markdown",
   "id": "93dda5f0",
   "metadata": {},
   "source": [
    "\n",
    "💡 **Q7.** Given an integer array nums, move all 0's to the end of it while maintaining the relative order of the nonzero elements.\n",
    "\n",
    "Note that you must do this in-place without making a copy of the array.\n",
    "\n",
    "**Example 1:**\n",
    "Input: nums = [0,1,0,3,12]\n",
    "Output: [1,3,12,0,0]\n"
   ]
  },
  {
   "cell_type": "markdown",
   "id": "28c5b159",
   "metadata": {},
   "source": [
    "CODE:\n",
    "class Solution:\n",
    "    def moveZeroes(self, nums: List[int]) -> None:\n",
    "        slow = 0\n",
    "        for fast in range(len(nums)):\n",
    "            if nums[fast] != 0 and nums[slow] == 0:\n",
    "                nums[slow], nums[fast] = nums[fast], nums[slow]\n",
    "\n",
    "            # wait while we find a non-zero element to\n",
    "            # swap with you\n",
    "            if nums[slow] != 0:\n",
    "                slow += 1\n",
    "                \n",
    "LINK: https://leetcode.com/problems/move-zeroes/"
   ]
  },
  {
   "cell_type": "markdown",
   "id": "035d5ede",
   "metadata": {},
   "source": [
    "\n",
    "💡 **Q8.** You have a set of integers s, which originally contains all the numbers from 1 to n. Unfortunately, due to some error, one of the numbers in s got duplicated to another number in the set, which results in repetition of one number and loss of another number.\n",
    "\n",
    "You are given an integer array nums representing the data status of this set after the error.\n",
    "\n",
    "Find the number that occurs twice and the number that is missing and return them in the form of an array.\n",
    "\n",
    "**Example 1:**\n",
    "Input: nums = [1,2,2,4]\n",
    "Output: [2,3]\n",
    "\n"
   ]
  },
  {
   "cell_type": "markdown",
   "id": "d1a98d63",
   "metadata": {},
   "source": [
    "CODE: \n",
    "def findErrorNums(self, nums: List[int]) -> List[int]:\n",
    "        length=len(nums) \n",
    "        sum_nums = length*(length+1)//2 #Sum of first n positive integers = n(n + 1)/2 \n",
    "        repetition = sum(nums) - sum(set(nums))\n",
    "        loss = sum_nums - sum(set(nums))\n",
    "        return [repetition,loss]\n",
    "        #Time : O(n) --> using sum() func\n",
    "        #Space : O(1) \n",
    "LINK:https://leetcode.com/problems/set-mismatch/description/"
   ]
  }
 ],
 "metadata": {
  "kernelspec": {
   "display_name": "Python 3 (ipykernel)",
   "language": "python",
   "name": "python3"
  },
  "language_info": {
   "codemirror_mode": {
    "name": "ipython",
    "version": 3
   },
   "file_extension": ".py",
   "mimetype": "text/x-python",
   "name": "python",
   "nbconvert_exporter": "python",
   "pygments_lexer": "ipython3",
   "version": "3.10.9"
  }
 },
 "nbformat": 4,
 "nbformat_minor": 5
}
